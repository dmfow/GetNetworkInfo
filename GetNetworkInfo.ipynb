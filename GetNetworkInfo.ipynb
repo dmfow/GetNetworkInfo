{
 "cells": [
  {
   "cell_type": "code",
   "execution_count": null,
   "id": "3ad358d5",
   "metadata": {},
   "outputs": [],
   "source": [
    "from netmiko import SSHDetect, ConnectHandler\n",
    "from getpass import getpass\n",
    "import json"
   ]
  },
  {
   "cell_type": "code",
   "execution_count": null,
   "id": "9b01e59b",
   "metadata": {},
   "outputs": [],
   "source": [
    "password = getpass()"
   ]
  },
  {
   "cell_type": "code",
   "execution_count": null,
   "id": "2181f6c8",
   "metadata": {},
   "outputs": [],
   "source": [
    "#deviceType = \"cisco_ios\"\t# Optional\n",
    "deviceType = \"autodetect\"\n",
    "sessionlogfile=\"log/sessionlogging.log\"\n",
    "host = \"192.168.0.1\"\n",
    "username = \"myusername\"\n",
    "\n",
    "equip = {\n",
    "    \"device_type\":deviceType, \n",
    "\t\"ip\":host, \n",
    "\t\"username\":username,\n",
    "\t\"password\":password,\n",
    "    \"session_log\":sessionlogfile\n",
    "}"
   ]
  },
  {
   "cell_type": "code",
   "execution_count": null,
   "id": "30a386ae",
   "metadata": {},
   "outputs": [],
   "source": [
    "device = ConnectHandler(**equip)"
   ]
  },
  {
   "cell_type": "code",
   "execution_count": null,
   "id": "3df1ead1",
   "metadata": {},
   "outputs": [],
   "source": [
    "cmd = 'show version'\n",
    "s = device.send_command(cmd)\n",
    "stop = False\n",
    "\n",
    "eq_vendor = ''\n",
    "eq_model = ''\n",
    "\n",
    "if s.upper().find('CISCO') > -1:\n",
    "    eq_vendor = 'Cisco'\n",
    "else:\n",
    "    stop = True\n",
    "        "
   ]
  },
  {
   "cell_type": "code",
   "execution_count": null,
   "id": "55c4e366",
   "metadata": {},
   "outputs": [],
   "source": [
    "print(eq_vendor)\n",
    "print(eq_model)"
   ]
  },
  {
   "cell_type": "code",
   "execution_count": null,
   "id": "91345fd9",
   "metadata": {},
   "outputs": [],
   "source": [
    "if eq_vendor == 'Cisco':\n",
    "    commands2 = [\n",
    "        'show version',\n",
    "        'show inventory',\n",
    "        'show running config',\n",
    "        'show ip int brief',\n",
    "        'show interface'\n",
    "    ]\n",
    "    \n",
    "dicts_output = {}\n",
    "dicts_output[\"vendor\"] = eq_vendor\n",
    "dicts_output[\"model\"] = eq_model\n",
    "\n",
    "outputA = []\n",
    "for cmd in commands2:\n",
    "    s = device.send_command(cmd)\n",
    "    outputA.append(s)\n",
    "    dicts_output[cmd] = s"
   ]
  },
  {
   "cell_type": "code",
   "execution_count": null,
   "id": "81a24479",
   "metadata": {},
   "outputs": [],
   "source": [
    "# for op in outputA:\n",
    "#     print(op)"
   ]
  },
  {
   "cell_type": "code",
   "execution_count": null,
   "id": "d630dcf1",
   "metadata": {},
   "outputs": [],
   "source": [
    "json_string = json.dumps(dicts_output)\n",
    "# print(json_string)\n",
    "json_formatted_str = json.dumps(dicts_output, indent=4)\n",
    "# print(json_formatted_str)"
   ]
  },
  {
   "cell_type": "code",
   "execution_count": null,
   "id": "3adb733f",
   "metadata": {},
   "outputs": [],
   "source": [
    "output = device.send_command('show ip route')\n",
    "print (output)"
   ]
  },
  {
   "cell_type": "code",
   "execution_count": null,
   "id": "4e6c0065",
   "metadata": {},
   "outputs": [],
   "source": [
    "output = device.send_command(\"show ip route\", use_genie=True)\n",
    "print(json.dumps(output, indent=4, sort_keys=True))"
   ]
  },
  {
   "cell_type": "code",
   "execution_count": null,
   "id": "2ddfb00a",
   "metadata": {},
   "outputs": [],
   "source": []
  },
  {
   "cell_type": "code",
   "execution_count": null,
   "id": "4bb0fa6c",
   "metadata": {},
   "outputs": [],
   "source": []
  },
  {
   "cell_type": "code",
   "execution_count": null,
   "id": "9eddd0b9",
   "metadata": {},
   "outputs": [],
   "source": [
    "device.disconnect()"
   ]
  },
  {
   "cell_type": "code",
   "execution_count": null,
   "id": "5643a976",
   "metadata": {},
   "outputs": [],
   "source": []
  },
  {
   "cell_type": "code",
   "execution_count": null,
   "id": "829679f2",
   "metadata": {},
   "outputs": [],
   "source": [
    "from pymongo import MongoClient"
   ]
  },
  {
   "cell_type": "code",
   "execution_count": null,
   "id": "ee95ea29",
   "metadata": {},
   "outputs": [],
   "source": [
    "myclient = MongoClient(\"mongodb://localhost:27017/\")\n",
    "db = myclient[\"Something\"]\n",
    "Collection = db[\"datastuff\"]"
   ]
  },
  {
   "cell_type": "code",
   "execution_count": null,
   "id": "19bb54c4",
   "metadata": {},
   "outputs": [],
   "source": [
    "if isinstance(json_formatted_str, list):\n",
    "    Collection.insert_many(json_formatted_str) \n",
    "else:\n",
    "    Collection.insert_one(json_formatted_str)"
   ]
  },
  {
   "cell_type": "code",
   "execution_count": null,
   "id": "b8626f6a",
   "metadata": {},
   "outputs": [],
   "source": []
  }
 ],
 "metadata": {
  "kernelspec": {
   "display_name": "Python 3",
   "language": "python",
   "name": "python3"
  },
  "language_info": {
   "codemirror_mode": {
    "name": "ipython",
    "version": 3
   },
   "file_extension": ".py",
   "mimetype": "text/x-python",
   "name": "python",
   "nbconvert_exporter": "python",
   "pygments_lexer": "ipython3",
   "version": "3.8.6"
  }
 },
 "nbformat": 4,
 "nbformat_minor": 5
}
